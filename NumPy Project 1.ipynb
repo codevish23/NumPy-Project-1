{
 "cells": [
  {
   "cell_type": "code",
   "execution_count": 1,
   "id": "ffb6f2ba",
   "metadata": {},
   "outputs": [],
   "source": [
    "import numpy as np"
   ]
  },
  {
   "cell_type": "code",
   "execution_count": 4,
   "id": "15efad9d",
   "metadata": {},
   "outputs": [],
   "source": [
    "from numpy import loadtxt"
   ]
  },
  {
   "cell_type": "code",
   "execution_count": 5,
   "id": "e6f08ae2",
   "metadata": {},
   "outputs": [],
   "source": [
    "filename = 'nyc_taxis.csv'"
   ]
  },
  {
   "cell_type": "code",
   "execution_count": 7,
   "id": "d9f31f67",
   "metadata": {},
   "outputs": [],
   "source": [
    "raw_data = open(filename, 'rb')"
   ]
  },
  {
   "cell_type": "code",
   "execution_count": 9,
   "id": "7e2adfea",
   "metadata": {},
   "outputs": [],
   "source": [
    "taxi = np.genfromtxt('nyc_taxis.csv', delimiter = ',', skip_header = True)"
   ]
  },
  {
   "cell_type": "code",
   "execution_count": 13,
   "id": "870ac7cc",
   "metadata": {},
   "outputs": [],
   "source": [
    "speed = taxi[:, 7] / (taxi[:, 8]/3600)"
   ]
  },
  {
   "cell_type": "markdown",
   "id": "a9380a46",
   "metadata": {},
   "source": [
    "### What is the mean speed of all the rides?"
   ]
  },
  {
   "cell_type": "code",
   "execution_count": 14,
   "id": "2990dd55",
   "metadata": {},
   "outputs": [],
   "source": [
    "mean_speed = speed.mean()"
   ]
  },
  {
   "cell_type": "code",
   "execution_count": 15,
   "id": "77eeb7e7",
   "metadata": {},
   "outputs": [
    {
     "data": {
      "text/plain": [
       "32.24258580925573"
      ]
     },
     "execution_count": 15,
     "metadata": {},
     "output_type": "execute_result"
    }
   ],
   "source": [
    "mean_speed"
   ]
  },
  {
   "cell_type": "markdown",
   "id": "f34447b5",
   "metadata": {},
   "source": [
    "### What is number of rides taken in february?"
   ]
  },
  {
   "cell_type": "code",
   "execution_count": null,
   "id": "491b7b8c",
   "metadata": {},
   "outputs": [],
   "source": [
    "# February is given by the 2 month columnn."
   ]
  },
  {
   "cell_type": "code",
   "execution_count": 23,
   "id": "bfbf1730",
   "metadata": {},
   "outputs": [],
   "source": [
    "rides_february = taxi[taxi[:,1] == 2,1]"
   ]
  },
  {
   "cell_type": "code",
   "execution_count": 26,
   "id": "e2ebfb48",
   "metadata": {},
   "outputs": [
    {
     "data": {
      "text/plain": [
       "13333"
      ]
     },
     "execution_count": 26,
     "metadata": {},
     "output_type": "execute_result"
    }
   ],
   "source": [
    "rides_february.shape[0]"
   ]
  },
  {
   "cell_type": "markdown",
   "id": "cd06c514",
   "metadata": {},
   "source": [
    "### What is the number of rides, where the tip is more than $50?"
   ]
  },
  {
   "cell_type": "code",
   "execution_count": 30,
   "id": "a9a77ca2",
   "metadata": {},
   "outputs": [],
   "source": [
    "tip = taxi[taxi[:, -3] > 50, -3]"
   ]
  },
  {
   "cell_type": "code",
   "execution_count": 31,
   "id": "c673c06c",
   "metadata": {},
   "outputs": [
    {
     "data": {
      "text/plain": [
       "array([ 52.8 ,  60.  ,  59.34,  80.  ,  70.  ,  60.  ,  55.  ,  65.  ,\n",
       "        80.  ,  62.  , 100.  ,  58.  ,  62.  ,  75.7 ,  60.  ,  70.  ])"
      ]
     },
     "execution_count": 31,
     "metadata": {},
     "output_type": "execute_result"
    }
   ],
   "source": [
    "tip"
   ]
  },
  {
   "cell_type": "code",
   "execution_count": 33,
   "id": "7ec838cb",
   "metadata": {},
   "outputs": [
    {
     "data": {
      "text/plain": [
       "16"
      ]
     },
     "execution_count": 33,
     "metadata": {},
     "output_type": "execute_result"
    }
   ],
   "source": [
    "tip.shape[0]"
   ]
  },
  {
   "cell_type": "markdown",
   "id": "4be3d29f",
   "metadata": {},
   "source": [
    "### What is the number of rides, where drop was JEK airport?"
   ]
  },
  {
   "cell_type": "code",
   "execution_count": 34,
   "id": "3384a905",
   "metadata": {},
   "outputs": [],
   "source": [
    "drop = taxi[taxi[:, 6] == 2, 6]"
   ]
  },
  {
   "cell_type": "code",
   "execution_count": 35,
   "id": "e24bf497",
   "metadata": {},
   "outputs": [
    {
     "data": {
      "text/plain": [
       "array([2., 2., 2., ..., 2., 2., 2.])"
      ]
     },
     "execution_count": 35,
     "metadata": {},
     "output_type": "execute_result"
    }
   ],
   "source": [
    "drop"
   ]
  },
  {
   "cell_type": "code",
   "execution_count": 36,
   "id": "2870de09",
   "metadata": {},
   "outputs": [
    {
     "data": {
      "text/plain": [
       "(11832,)"
      ]
     },
     "execution_count": 36,
     "metadata": {},
     "output_type": "execute_result"
    }
   ],
   "source": [
    "drop.shape"
   ]
  },
  {
   "cell_type": "code",
   "execution_count": 37,
   "id": "4d00b533",
   "metadata": {},
   "outputs": [
    {
     "data": {
      "text/plain": [
       "11832"
      ]
     },
     "execution_count": 37,
     "metadata": {},
     "output_type": "execute_result"
    }
   ],
   "source": [
    "drop.shape[0]"
   ]
  },
  {
   "cell_type": "code",
   "execution_count": null,
   "id": "337cafe1",
   "metadata": {},
   "outputs": [],
   "source": []
  }
 ],
 "metadata": {
  "kernelspec": {
   "display_name": "Python 3 (ipykernel)",
   "language": "python",
   "name": "python3"
  },
  "language_info": {
   "codemirror_mode": {
    "name": "ipython",
    "version": 3
   },
   "file_extension": ".py",
   "mimetype": "text/x-python",
   "name": "python",
   "nbconvert_exporter": "python",
   "pygments_lexer": "ipython3",
   "version": "3.9.1"
  }
 },
 "nbformat": 4,
 "nbformat_minor": 5
}
